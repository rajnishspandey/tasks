{
 "cells": [
  {
   "cell_type": "code",
   "execution_count": 1,
   "id": "f6d8877b-a781-478a-a0be-795adf6bc5f5",
   "metadata": {},
   "outputs": [],
   "source": [
    "import boto3\n",
    "import pandas as pd\n",
    "from io import StringIO\n",
    "from pyspark.sql import SparkSession"
   ]
  },
  {
   "cell_type": "markdown",
   "id": "2b94e937-13d5-4d4b-a103-fbb185a3f03a",
   "metadata": {},
   "source": [
    "# I have removed Access Key and Id which I have used for fetching the data from s3 bucket"
   ]
  },
  {
   "cell_type": "code",
   "execution_count": 3,
   "id": "25ad25fc-7c88-4147-8a65-17130755206b",
   "metadata": {},
   "outputs": [],
   "source": [
    "s3 = boto3.client(\n",
    "    service_name='s3',\n",
    "    region_name=AWS_DEFAULT_REGION,\n",
    "    aws_access_key_id=AWS_ACCESS_KEY_ID,\n",
    "    aws_secret_access_key=AWS_SECRET_ACCESS_KEY\n",
    ")"
   ]
  },
  {
   "cell_type": "markdown",
   "id": "24332475-aed2-4c86-9b5f-53c1135a0a96",
   "metadata": {},
   "source": [
    " - Load both the csv file from Part 1 pr.data.0.Current and the json file from Part 2 as dataframes (Spark, Pyspark, Pandas, Koalas, etc)."
   ]
  },
  {
   "cell_type": "code",
   "execution_count": 4,
   "id": "613b71b1-06f9-4973-944f-015c43e784d9",
   "metadata": {},
   "outputs": [],
   "source": [
    "FILE_NAME_COUNT = '/pub/time.series/pr/pr.data.0.Current'\n",
    "FILE_NAME_PART_POPULATION = 'task2/population_data.json'"
   ]
  },
  {
   "cell_type": "code",
   "execution_count": 7,
   "id": "28c0e037-5e12-4fde-aa5b-d39ebedc6954",
   "metadata": {},
   "outputs": [],
   "source": [
    "response_count = s3.get_object(Bucket=S3_BUCKET, Key=FILE_NAME_COUNT)\n",
    "file_content_count = response_count['Body'].read().decode('utf-8') \n",
    "df_pandas_count = pd.read_csv(StringIO(file_content_count), delimiter='\\t')"
   ]
  },
  {
   "cell_type": "code",
   "execution_count": 8,
   "id": "749d6963-af35-4d68-9930-5dbb77918087",
   "metadata": {},
   "outputs": [
    {
     "data": {
      "text/html": [
       "<div>\n",
       "<style scoped>\n",
       "    .dataframe tbody tr th:only-of-type {\n",
       "        vertical-align: middle;\n",
       "    }\n",
       "\n",
       "    .dataframe tbody tr th {\n",
       "        vertical-align: top;\n",
       "    }\n",
       "\n",
       "    .dataframe thead th {\n",
       "        text-align: right;\n",
       "    }\n",
       "</style>\n",
       "<table border=\"1\" class=\"dataframe\">\n",
       "  <thead>\n",
       "    <tr style=\"text-align: right;\">\n",
       "      <th></th>\n",
       "      <th>series_id</th>\n",
       "      <th>year</th>\n",
       "      <th>period</th>\n",
       "      <th>value</th>\n",
       "      <th>footnote_codes</th>\n",
       "    </tr>\n",
       "  </thead>\n",
       "  <tbody>\n",
       "    <tr>\n",
       "      <th>0</th>\n",
       "      <td>PRS30006011</td>\n",
       "      <td>1995</td>\n",
       "      <td>Q01</td>\n",
       "      <td>2.6</td>\n",
       "      <td>NaN</td>\n",
       "    </tr>\n",
       "    <tr>\n",
       "      <th>1</th>\n",
       "      <td>PRS30006011</td>\n",
       "      <td>1995</td>\n",
       "      <td>Q02</td>\n",
       "      <td>2.1</td>\n",
       "      <td>NaN</td>\n",
       "    </tr>\n",
       "    <tr>\n",
       "      <th>2</th>\n",
       "      <td>PRS30006011</td>\n",
       "      <td>1995</td>\n",
       "      <td>Q03</td>\n",
       "      <td>0.9</td>\n",
       "      <td>NaN</td>\n",
       "    </tr>\n",
       "    <tr>\n",
       "      <th>3</th>\n",
       "      <td>PRS30006011</td>\n",
       "      <td>1995</td>\n",
       "      <td>Q04</td>\n",
       "      <td>0.1</td>\n",
       "      <td>NaN</td>\n",
       "    </tr>\n",
       "    <tr>\n",
       "      <th>4</th>\n",
       "      <td>PRS30006011</td>\n",
       "      <td>1995</td>\n",
       "      <td>Q05</td>\n",
       "      <td>1.4</td>\n",
       "      <td>NaN</td>\n",
       "    </tr>\n",
       "  </tbody>\n",
       "</table>\n",
       "</div>"
      ],
      "text/plain": [
       "   series_id          year period         value footnote_codes\n",
       "0  PRS30006011        1995    Q01           2.6            NaN\n",
       "1  PRS30006011        1995    Q02           2.1            NaN\n",
       "2  PRS30006011        1995    Q03           0.9            NaN\n",
       "3  PRS30006011        1995    Q04           0.1            NaN\n",
       "4  PRS30006011        1995    Q05           1.4            NaN"
      ]
     },
     "execution_count": 8,
     "metadata": {},
     "output_type": "execute_result"
    }
   ],
   "source": [
    "df_pandas_count.head()"
   ]
  },
  {
   "cell_type": "code",
   "execution_count": 9,
   "id": "56a6816c-de40-460b-ba33-4150d9931438",
   "metadata": {},
   "outputs": [],
   "source": [
    "import json\n",
    "response_population = s3.get_object(Bucket=S3_BUCKET, Key=FILE_NAME_PART_POPULATION)\n",
    "file_content_population = response_population['Body'].read().decode('utf-8')\n",
    "df_pandas_population = json.loads(file_content_population)"
   ]
  },
  {
   "cell_type": "code",
   "execution_count": 10,
   "id": "db92c50d-ae43-4c53-8590-79a9c3a562e8",
   "metadata": {
    "scrolled": true
   },
   "outputs": [
    {
     "name": "stdout",
     "output_type": "stream",
     "text": [
      "{'data': [{'ID Nation': '01000US', 'Nation': 'United States', 'ID Year': 2022, 'Year': '2022', 'Population': 331097593, 'Slug Nation': 'united-states'}, {'ID Nation': '01000US', 'Nation': 'United States', 'ID Year': 2021, 'Year': '2021', 'Population': 329725481, 'Slug Nation': 'united-states'}, {'ID Nation': '01000US', 'Nation': 'United States', 'ID Year': 2020, 'Year': '2020', 'Population': 326569308, 'Slug Nation': 'united-states'}, {'ID Nation': '01000US', 'Nation': 'United States', 'ID Year': 2019, 'Year': '2019', 'Population': 324697795, 'Slug Nation': 'united-states'}, {'ID Nation': '01000US', 'Nation': 'United States', 'ID Year': 2018, 'Year': '2018', 'Population': 322903030, 'Slug Nation': 'united-states'}, {'ID Nation': '01000US', 'Nation': 'United States', 'ID Year': 2017, 'Year': '2017', 'Population': 321004407, 'Slug Nation': 'united-states'}, {'ID Nation': '01000US', 'Nation': 'United States', 'ID Year': 2016, 'Year': '2016', 'Population': 318558162, 'Slug Nation': 'united-states'}, {'ID Nation': '01000US', 'Nation': 'United States', 'ID Year': 2015, 'Year': '2015', 'Population': 316515021, 'Slug Nation': 'united-states'}, {'ID Nation': '01000US', 'Nation': 'United States', 'ID Year': 2014, 'Year': '2014', 'Population': 314107084, 'Slug Nation': 'united-states'}, {'ID Nation': '01000US', 'Nation': 'United States', 'ID Year': 2013, 'Year': '2013', 'Population': 311536594, 'Slug Nation': 'united-states'}], 'source': [{'measures': ['Population'], 'annotations': {'source_name': 'Census Bureau', 'source_description': 'The American Community Survey (ACS) is conducted by the US Census and sent to a portion of the population every year.', 'dataset_name': 'ACS 5-year Estimate', 'dataset_link': 'http://www.census.gov/programs-surveys/acs/', 'table_id': 'B01003', 'topic': 'Diversity', 'subtopic': 'Demographics'}, 'name': 'acs_yg_total_population_5', 'substitutions': []}]}\n"
     ]
    }
   ],
   "source": [
    " print(df_pandas_population)"
   ]
  },
  {
   "cell_type": "code",
   "execution_count": 11,
   "id": "27f52c58-b2a1-4c75-a8e6-33c02bd3d956",
   "metadata": {},
   "outputs": [],
   "source": [
    "data = df_pandas_population['data']"
   ]
  },
  {
   "cell_type": "code",
   "execution_count": 12,
   "id": "86648bc1-6793-4292-9f2d-fdcacc733b75",
   "metadata": {},
   "outputs": [
    {
     "data": {
      "text/plain": [
       "[{'ID Nation': '01000US',\n",
       "  'Nation': 'United States',\n",
       "  'ID Year': 2022,\n",
       "  'Year': '2022',\n",
       "  'Population': 331097593,\n",
       "  'Slug Nation': 'united-states'},\n",
       " {'ID Nation': '01000US',\n",
       "  'Nation': 'United States',\n",
       "  'ID Year': 2021,\n",
       "  'Year': '2021',\n",
       "  'Population': 329725481,\n",
       "  'Slug Nation': 'united-states'},\n",
       " {'ID Nation': '01000US',\n",
       "  'Nation': 'United States',\n",
       "  'ID Year': 2020,\n",
       "  'Year': '2020',\n",
       "  'Population': 326569308,\n",
       "  'Slug Nation': 'united-states'},\n",
       " {'ID Nation': '01000US',\n",
       "  'Nation': 'United States',\n",
       "  'ID Year': 2019,\n",
       "  'Year': '2019',\n",
       "  'Population': 324697795,\n",
       "  'Slug Nation': 'united-states'},\n",
       " {'ID Nation': '01000US',\n",
       "  'Nation': 'United States',\n",
       "  'ID Year': 2018,\n",
       "  'Year': '2018',\n",
       "  'Population': 322903030,\n",
       "  'Slug Nation': 'united-states'},\n",
       " {'ID Nation': '01000US',\n",
       "  'Nation': 'United States',\n",
       "  'ID Year': 2017,\n",
       "  'Year': '2017',\n",
       "  'Population': 321004407,\n",
       "  'Slug Nation': 'united-states'},\n",
       " {'ID Nation': '01000US',\n",
       "  'Nation': 'United States',\n",
       "  'ID Year': 2016,\n",
       "  'Year': '2016',\n",
       "  'Population': 318558162,\n",
       "  'Slug Nation': 'united-states'},\n",
       " {'ID Nation': '01000US',\n",
       "  'Nation': 'United States',\n",
       "  'ID Year': 2015,\n",
       "  'Year': '2015',\n",
       "  'Population': 316515021,\n",
       "  'Slug Nation': 'united-states'},\n",
       " {'ID Nation': '01000US',\n",
       "  'Nation': 'United States',\n",
       "  'ID Year': 2014,\n",
       "  'Year': '2014',\n",
       "  'Population': 314107084,\n",
       "  'Slug Nation': 'united-states'},\n",
       " {'ID Nation': '01000US',\n",
       "  'Nation': 'United States',\n",
       "  'ID Year': 2013,\n",
       "  'Year': '2013',\n",
       "  'Population': 311536594,\n",
       "  'Slug Nation': 'united-states'}]"
      ]
     },
     "execution_count": 12,
     "metadata": {},
     "output_type": "execute_result"
    }
   ],
   "source": [
    "data"
   ]
  },
  {
   "cell_type": "code",
   "execution_count": 13,
   "id": "71c8788b-6d6c-4e47-b8bd-d80131ccc678",
   "metadata": {},
   "outputs": [],
   "source": [
    "df_pandas_population = pd.DataFrame(data)"
   ]
  },
  {
   "cell_type": "code",
   "execution_count": 14,
   "id": "91d0fce1-a7ec-4421-b112-a5bf7d282aca",
   "metadata": {},
   "outputs": [
    {
     "name": "stdout",
     "output_type": "stream",
     "text": [
      "  ID Nation         Nation  ID Year  Year  Population    Slug Nation\n",
      "0   01000US  United States     2022  2022   331097593  united-states\n",
      "1   01000US  United States     2021  2021   329725481  united-states\n",
      "2   01000US  United States     2020  2020   326569308  united-states\n",
      "3   01000US  United States     2019  2019   324697795  united-states\n",
      "4   01000US  United States     2018  2018   322903030  united-states\n"
     ]
    }
   ],
   "source": [
    "print(df_pandas_population.head())"
   ]
  },
  {
   "cell_type": "code",
   "execution_count": 15,
   "id": "707ecd5f-0926-4b3d-8d24-77219d3369bc",
   "metadata": {},
   "outputs": [],
   "source": [
    "spark = SparkSession.builder.appName(\"S3FileProcessing\").getOrCreate()"
   ]
  },
  {
   "cell_type": "code",
   "execution_count": 38,
   "id": "54a46b50-657f-42cd-aed1-21ce51730f73",
   "metadata": {},
   "outputs": [],
   "source": [
    "df_count_spark = spark.createDataFrame(df_pandas_count)\n",
    "df_spark_population = spark.createDataFrame(df_pandas_population)"
   ]
  },
  {
   "cell_type": "code",
   "execution_count": 39,
   "id": "59478409-1664-46e4-ae8b-24d25f170da6",
   "metadata": {},
   "outputs": [
    {
     "name": "stdout",
     "output_type": "stream",
     "text": [
      "+-----------------+----+------+------------+--------------+\n",
      "|series_id        |year|period|       value|footnote_codes|\n",
      "+-----------------+----+------+------------+--------------+\n",
      "|PRS30006011      |1995|   Q01|         2.6|           NaN|\n",
      "|PRS30006011      |1995|   Q02|         2.1|           NaN|\n",
      "|PRS30006011      |1995|   Q03|         0.9|           NaN|\n",
      "|PRS30006011      |1995|   Q04|         0.1|           NaN|\n",
      "|PRS30006011      |1995|   Q05|         1.4|           NaN|\n",
      "|PRS30006011      |1996|   Q01|        -0.2|           NaN|\n",
      "|PRS30006011      |1996|   Q02|        -0.3|           NaN|\n",
      "|PRS30006011      |1996|   Q03|        -0.1|           NaN|\n",
      "|PRS30006011      |1996|   Q04|         0.2|           NaN|\n",
      "|PRS30006011      |1996|   Q05|        -0.1|           NaN|\n",
      "|PRS30006011      |1997|   Q01|         0.3|           NaN|\n",
      "|PRS30006011      |1997|   Q02|         0.7|           NaN|\n",
      "|PRS30006011      |1997|   Q03|         1.0|           NaN|\n",
      "|PRS30006011      |1997|   Q04|         1.5|           NaN|\n",
      "|PRS30006011      |1997|   Q05|         0.9|           NaN|\n",
      "|PRS30006011      |1998|   Q01|         1.6|           NaN|\n",
      "|PRS30006011      |1998|   Q02|         1.6|           NaN|\n",
      "|PRS30006011      |1998|   Q03|         0.5|           NaN|\n",
      "|PRS30006011      |1998|   Q04|        -0.3|           NaN|\n",
      "|PRS30006011      |1998|   Q05|         0.8|           NaN|\n",
      "+-----------------+----+------+------------+--------------+\n",
      "only showing top 20 rows\n",
      "\n"
     ]
    }
   ],
   "source": [
    "df_count_spark.show()"
   ]
  },
  {
   "cell_type": "code",
   "execution_count": 19,
   "id": "e352f4d4-3cf3-4f2d-98c8-eea8f6c3d1e7",
   "metadata": {},
   "outputs": [
    {
     "name": "stdout",
     "output_type": "stream",
     "text": [
      "+---------+-------------+-------+----+----------+-------------+\n",
      "|ID Nation|       Nation|ID Year|Year|Population|  Slug Nation|\n",
      "+---------+-------------+-------+----+----------+-------------+\n",
      "|  01000US|United States|   2022|2022| 331097593|united-states|\n",
      "|  01000US|United States|   2021|2021| 329725481|united-states|\n",
      "|  01000US|United States|   2020|2020| 326569308|united-states|\n",
      "|  01000US|United States|   2019|2019| 324697795|united-states|\n",
      "|  01000US|United States|   2018|2018| 322903030|united-states|\n",
      "|  01000US|United States|   2017|2017| 321004407|united-states|\n",
      "|  01000US|United States|   2016|2016| 318558162|united-states|\n",
      "|  01000US|United States|   2015|2015| 316515021|united-states|\n",
      "|  01000US|United States|   2014|2014| 314107084|united-states|\n",
      "|  01000US|United States|   2013|2013| 311536594|united-states|\n",
      "+---------+-------------+-------+----+----------+-------------+\n",
      "\n"
     ]
    }
   ],
   "source": [
    "df_spark_population.show()"
   ]
  },
  {
   "cell_type": "code",
   "execution_count": 20,
   "id": "ba5a026b-7cee-4825-a1a4-5e94a611558b",
   "metadata": {},
   "outputs": [
    {
     "name": "stdout",
     "output_type": "stream",
     "text": [
      "root\n",
      " |-- ID Nation: string (nullable = true)\n",
      " |-- Nation: string (nullable = true)\n",
      " |-- ID Year: long (nullable = true)\n",
      " |-- Year: string (nullable = true)\n",
      " |-- Population: long (nullable = true)\n",
      " |-- Slug Nation: string (nullable = true)\n",
      "\n"
     ]
    }
   ],
   "source": [
    "df_spark_population.printSchema()"
   ]
  },
  {
   "cell_type": "code",
   "execution_count": 21,
   "id": "82e5fd26-f5b9-4033-85ef-c9bd3e0d8fa7",
   "metadata": {},
   "outputs": [],
   "source": [
    "new_pop = df_spark_population.selectExpr(\" 'ID Nation' as id_nation\", \"Nation as nation\",\n",
    "                               \" 'ID Year' as id_year\",\n",
    "                               \"cast(Year as int) as year\",\n",
    "                               \"Population as population\",\n",
    "                               \" 'Slug Nation' as slug_nation\"\n",
    "                               )"
   ]
  },
  {
   "cell_type": "code",
   "execution_count": 22,
   "id": "7020814b-e104-458e-916a-faeaf88f6541",
   "metadata": {},
   "outputs": [
    {
     "name": "stdout",
     "output_type": "stream",
     "text": [
      "root\n",
      " |-- id_nation: string (nullable = false)\n",
      " |-- nation: string (nullable = true)\n",
      " |-- id_year: string (nullable = false)\n",
      " |-- year: integer (nullable = true)\n",
      " |-- population: long (nullable = true)\n",
      " |-- slug_nation: string (nullable = false)\n",
      "\n"
     ]
    }
   ],
   "source": [
    "new_pop.printSchema()"
   ]
  },
  {
   "cell_type": "markdown",
   "id": "c9a6b227-2393-44cd-ba16-8651580b8049",
   "metadata": {},
   "source": [
    "- Using the dataframe from the population data API (Part 2), generate the \n",
    "mean and the standard deviation of the annual US population across the years [2013, 2018] inclusive.\n",
    "from pyspark.sql.functions import mean, stddev"
   ]
  },
  {
   "cell_type": "code",
   "execution_count": 29,
   "id": "c5c6a6c1-8617-42a4-bda5-47e559a51b27",
   "metadata": {},
   "outputs": [],
   "source": [
    "filtered_data = new_pop.filter(new_pop['year'].between(2013, 2018))\n",
    "\n",
    "statistics = filtered_data.select(\n",
    "    mean('population').alias('mean_population'),\n",
    "    stddev('population').alias('stddev_population')\n",
    ")"
   ]
  },
  {
   "cell_type": "code",
   "execution_count": 30,
   "id": "3c8d7354-6c40-47a4-ade4-e33968647c00",
   "metadata": {},
   "outputs": [
    {
     "name": "stdout",
     "output_type": "stream",
     "text": [
      "+---------------+-----------------+\n",
      "|mean_population|stddev_population|\n",
      "+---------------+-----------------+\n",
      "|   3.17437383E8|4257089.541529327|\n",
      "+---------------+-----------------+\n",
      "\n"
     ]
    }
   ],
   "source": [
    "statistics.show()"
   ]
  },
  {
   "cell_type": "markdown",
   "id": "9555cd8e-38c7-496e-900f-3f9dbb8e8627",
   "metadata": {},
   "source": [
    " - Using the dataframe from the time-series (Part 1), For every series_id, find the best year: the year with the max/largest sum of \"value\" for all quarters in that year. Generate a report with each series id, the best year for that series, and the summed value for that year. For example, if the table had the following values:"
   ]
  },
  {
   "cell_type": "code",
   "execution_count": 40,
   "id": "b13aeaae-b943-49b8-9043-109d2e9548b8",
   "metadata": {},
   "outputs": [
    {
     "name": "stdout",
     "output_type": "stream",
     "text": [
      "+-----------------+----+------+------------+--------------+\n",
      "|series_id        |year|period|       value|footnote_codes|\n",
      "+-----------------+----+------+------------+--------------+\n",
      "|PRS30006011      |1995|   Q01|         2.6|           NaN|\n",
      "|PRS30006011      |1995|   Q02|         2.1|           NaN|\n",
      "|PRS30006011      |1995|   Q03|         0.9|           NaN|\n",
      "|PRS30006011      |1995|   Q04|         0.1|           NaN|\n",
      "|PRS30006011      |1995|   Q05|         1.4|           NaN|\n",
      "|PRS30006011      |1996|   Q01|        -0.2|           NaN|\n",
      "|PRS30006011      |1996|   Q02|        -0.3|           NaN|\n",
      "|PRS30006011      |1996|   Q03|        -0.1|           NaN|\n",
      "|PRS30006011      |1996|   Q04|         0.2|           NaN|\n",
      "|PRS30006011      |1996|   Q05|        -0.1|           NaN|\n",
      "|PRS30006011      |1997|   Q01|         0.3|           NaN|\n",
      "|PRS30006011      |1997|   Q02|         0.7|           NaN|\n",
      "|PRS30006011      |1997|   Q03|         1.0|           NaN|\n",
      "|PRS30006011      |1997|   Q04|         1.5|           NaN|\n",
      "|PRS30006011      |1997|   Q05|         0.9|           NaN|\n",
      "|PRS30006011      |1998|   Q01|         1.6|           NaN|\n",
      "|PRS30006011      |1998|   Q02|         1.6|           NaN|\n",
      "|PRS30006011      |1998|   Q03|         0.5|           NaN|\n",
      "|PRS30006011      |1998|   Q04|        -0.3|           NaN|\n",
      "|PRS30006011      |1998|   Q05|         0.8|           NaN|\n",
      "+-----------------+----+------+------------+--------------+\n",
      "only showing top 20 rows\n",
      "\n"
     ]
    }
   ],
   "source": [
    "df_count_spark.show()"
   ]
  },
  {
   "cell_type": "code",
   "execution_count": 49,
   "id": "a5a07e35-1c37-4fc2-8ff1-adcce999c173",
   "metadata": {},
   "outputs": [
    {
     "name": "stdout",
     "output_type": "stream",
     "text": [
      "root\n",
      " |-- series_id        : string (nullable = true)\n",
      " |-- year: long (nullable = true)\n",
      " |-- period: string (nullable = true)\n",
      " |--        value: double (nullable = true)\n",
      " |-- footnote_codes: string (nullable = true)\n",
      "\n"
     ]
    }
   ],
   "source": [
    "df_count_spark.printSchema()"
   ]
  },
  {
   "cell_type": "code",
   "execution_count": 64,
   "id": "3ec4276e-17ef-46c9-8199-226955e23483",
   "metadata": {},
   "outputs": [
    {
     "name": "stdout",
     "output_type": "stream",
     "text": [
      "root\n",
      " |-- series_id: string (nullable = true)\n",
      " |-- year: long (nullable = true)\n",
      " |-- period: string (nullable = true)\n",
      " |-- value: double (nullable = true)\n",
      " |-- footnote_codes: string (nullable = true)\n",
      "\n"
     ]
    }
   ],
   "source": [
    "from pyspark.sql.functions import col\n",
    "\n",
    "cleaned_df = df_count_spark.select(\n",
    "    [col(col_name).alias(col_name.strip()) for col_name in df_count_spark.columns]\n",
    ")\n",
    "\n",
    "cleaned_df.printSchema()"
   ]
  },
  {
   "cell_type": "code",
   "execution_count": 65,
   "id": "cad67805-e8f6-42ce-a0d7-d40732b618e1",
   "metadata": {},
   "outputs": [
    {
     "name": "stdout",
     "output_type": "stream",
     "text": [
      "+-----------------+----+------+-----+--------------+\n",
      "|        series_id|year|period|value|footnote_codes|\n",
      "+-----------------+----+------+-----+--------------+\n",
      "|PRS30006011      |1995|   Q01|  2.6|           NaN|\n",
      "|PRS30006011      |1995|   Q02|  2.1|           NaN|\n",
      "|PRS30006011      |1995|   Q03|  0.9|           NaN|\n",
      "|PRS30006011      |1995|   Q04|  0.1|           NaN|\n",
      "|PRS30006011      |1995|   Q05|  1.4|           NaN|\n",
      "|PRS30006011      |1996|   Q01| -0.2|           NaN|\n",
      "|PRS30006011      |1996|   Q02| -0.3|           NaN|\n",
      "|PRS30006011      |1996|   Q03| -0.1|           NaN|\n",
      "|PRS30006011      |1996|   Q04|  0.2|           NaN|\n",
      "|PRS30006011      |1996|   Q05| -0.1|           NaN|\n",
      "|PRS30006011      |1997|   Q01|  0.3|           NaN|\n",
      "|PRS30006011      |1997|   Q02|  0.7|           NaN|\n",
      "|PRS30006011      |1997|   Q03|  1.0|           NaN|\n",
      "|PRS30006011      |1997|   Q04|  1.5|           NaN|\n",
      "|PRS30006011      |1997|   Q05|  0.9|           NaN|\n",
      "|PRS30006011      |1998|   Q01|  1.6|           NaN|\n",
      "|PRS30006011      |1998|   Q02|  1.6|           NaN|\n",
      "|PRS30006011      |1998|   Q03|  0.5|           NaN|\n",
      "|PRS30006011      |1998|   Q04| -0.3|           NaN|\n",
      "|PRS30006011      |1998|   Q05|  0.8|           NaN|\n",
      "+-----------------+----+------+-----+--------------+\n",
      "only showing top 20 rows\n",
      "\n"
     ]
    }
   ],
   "source": [
    "cleaned_df.show()"
   ]
  },
  {
   "cell_type": "code",
   "execution_count": 81,
   "id": "1886e1e7-03ae-4971-aa4d-433b4ca0eb84",
   "metadata": {},
   "outputs": [],
   "source": [
    "best_year = cleaned_df.selectExpr(\n",
    "    \"series_id\",\n",
    "    \"year\",\n",
    "    \"sum(value) over (partition by series_id, year) as yearly_sum\",\n",
    "    \"rank() over (partition by series_id order by sum(value) over (partition by series_id, year) desc) as rank\"\n",
    ").distinct().where(\"rank == 1\").select(\"series_id\", \"year\", \"yearly_sum\")"
   ]
  },
  {
   "cell_type": "code",
   "execution_count": 82,
   "id": "a3c605b4-9041-461f-acab-4ab2a1ec6395",
   "metadata": {},
   "outputs": [
    {
     "name": "stdout",
     "output_type": "stream",
     "text": [
      "+-----------------+----+------------------+\n",
      "|        series_id|year|        yearly_sum|\n",
      "+-----------------+----+------------------+\n",
      "|PRS30006011      |2022|              20.5|\n",
      "|PRS30006012      |2022|17.099999999999998|\n",
      "|PRS30006013      |1998|           704.125|\n",
      "|PRS30006021      |2010|17.599999999999998|\n",
      "|PRS30006022      |2010|              12.5|\n",
      "|PRS30006023      |2014|           503.171|\n",
      "|PRS30006031      |2022|20.400000000000002|\n",
      "|PRS30006032      |2021|17.099999999999998|\n",
      "|PRS30006033      |1998|           700.712|\n",
      "|PRS30006061      |2022|              37.1|\n",
      "|PRS30006062      |2021|              31.6|\n",
      "|PRS30006063      |2023| 629.1310000000001|\n",
      "|PRS30006081      |2021|              23.3|\n",
      "|PRS30006082      |2021|              23.3|\n",
      "|PRS30006083      |2021|           112.341|\n",
      "|PRS30006091      |2002|43.400000000000006|\n",
      "|PRS30006092      |2002|              44.5|\n",
      "|PRS30006093      |2011|           520.086|\n",
      "|PRS30006101      |2020|              33.4|\n",
      "|PRS30006102      |2020|              36.5|\n",
      "+-----------------+----+------------------+\n",
      "only showing top 20 rows\n",
      "\n"
     ]
    }
   ],
   "source": [
    "best_year.show()"
   ]
  },
  {
   "cell_type": "markdown",
   "id": "b262a28e-c0ba-4e19-9636-1d0e573794e5",
   "metadata": {},
   "source": [
    " - Using both dataframes from Part 1 and Part 2, generate a report that will provide the value for series_id = PRS30006032 and period = Q01 and the population for that given year (if available in the population dataset). The below table shows an example of one row that might appear in the resulting table:"
   ]
  },
  {
   "cell_type": "code",
   "execution_count": 85,
   "id": "146317b6-1f36-431e-98fb-b6fe37106383",
   "metadata": {},
   "outputs": [
    {
     "name": "stdout",
     "output_type": "stream",
     "text": [
      "root\n",
      " |-- series_id: string (nullable = true)\n",
      " |-- year: long (nullable = true)\n",
      " |-- period: string (nullable = true)\n",
      " |-- value: double (nullable = true)\n",
      " |-- footnote_codes: string (nullable = true)\n",
      "\n"
     ]
    }
   ],
   "source": [
    "cleaned_df.printSchema()"
   ]
  },
  {
   "cell_type": "code",
   "execution_count": 95,
   "id": "4db8f41a-616d-4497-a17a-fca0d0aa034d",
   "metadata": {},
   "outputs": [
    {
     "name": "stdout",
     "output_type": "stream",
     "text": [
      "root\n",
      " |-- ID Nation: string (nullable = true)\n",
      " |-- Nation: string (nullable = true)\n",
      " |-- ID Year: long (nullable = true)\n",
      " |-- Year: string (nullable = true)\n",
      " |-- Population: long (nullable = true)\n",
      " |-- Slug Nation: string (nullable = true)\n",
      "\n"
     ]
    }
   ],
   "source": [
    "df_spark_population.printSchema()"
   ]
  },
  {
   "cell_type": "code",
   "execution_count": 121,
   "id": "596cc050-0d29-4110-8df4-e9c2f1139255",
   "metadata": {},
   "outputs": [],
   "source": [
    "df_spark_population = df_spark_population.withColumnRenamed(\"Year\", \"year\")"
   ]
  },
  {
   "cell_type": "code",
   "execution_count": 124,
   "id": "3f1838f0-773f-423f-83cc-b94344c3e551",
   "metadata": {},
   "outputs": [
    {
     "name": "stdout",
     "output_type": "stream",
     "text": [
      "root\n",
      " |-- ID Nation: string (nullable = true)\n",
      " |-- Nation: string (nullable = true)\n",
      " |-- ID Year: long (nullable = true)\n",
      " |-- year: string (nullable = true)\n",
      " |-- Population: long (nullable = true)\n",
      " |-- Slug Nation: string (nullable = true)\n",
      "\n"
     ]
    }
   ],
   "source": [
    "df_spark_population.printSchema()"
   ]
  },
  {
   "cell_type": "code",
   "execution_count": 133,
   "id": "70b28d9c-e93f-4456-8684-515945a4f5a9",
   "metadata": {},
   "outputs": [],
   "source": [
    "df_all_data = cleaned_df.join(df_spark_population, 'year')"
   ]
  },
  {
   "cell_type": "code",
   "execution_count": 143,
   "id": "f77b6fc6-a6da-4a94-9ea8-955b35353fa1",
   "metadata": {},
   "outputs": [
    {
     "name": "stdout",
     "output_type": "stream",
     "text": [
      "+-----------------+----+------+-----+----------+\n",
      "|        series_id|year|period|value|Population|\n",
      "+-----------------+----+------+-----+----------+\n",
      "|PRS30006032      |2013|   Q01|  0.8| 311536594|\n",
      "|PRS30006032      |2014|   Q01| -0.1| 314107084|\n",
      "|PRS30006032      |2015|   Q01| -1.6| 316515021|\n",
      "|PRS30006032      |2016|   Q01| -1.4| 318558162|\n",
      "|PRS30006032      |2017|   Q01|  0.7| 321004407|\n",
      "|PRS30006032      |2018|   Q01|  0.4| 322903030|\n",
      "|PRS30006032      |2019|   Q01| -1.6| 324697795|\n",
      "|PRS30006032      |2020|   Q01| -6.7| 326569308|\n",
      "|PRS30006032      |2021|   Q01|  1.2| 329725481|\n",
      "|PRS30006032      |2022|   Q01|  5.6| 331097593|\n",
      "+-----------------+----+------+-----+----------+\n",
      "\n"
     ]
    }
   ],
   "source": [
    "df_all_data.selectExpr(\"series_id\",\"year\",\"period\",\"value\",\"Population\").where(\"trim(series_id) = 'PRS30006032' and trim(period) = 'Q01'\").show()"
   ]
  },
  {
   "cell_type": "code",
   "execution_count": null,
   "id": "f6bbdb52-f3d4-41ba-8ae6-0846ad9eb835",
   "metadata": {},
   "outputs": [],
   "source": []
  }
 ],
 "metadata": {
  "kernelspec": {
   "display_name": "Python 3 (ipykernel)",
   "language": "python",
   "name": "python3"
  },
  "language_info": {
   "codemirror_mode": {
    "name": "ipython",
    "version": 3
   },
   "file_extension": ".py",
   "mimetype": "text/x-python",
   "name": "python",
   "nbconvert_exporter": "python",
   "pygments_lexer": "ipython3",
   "version": "3.11.6"
  }
 },
 "nbformat": 4,
 "nbformat_minor": 5
}
